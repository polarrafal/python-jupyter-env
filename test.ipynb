{
 "cells": [
  {
   "cell_type": "code",
   "execution_count": null,
   "id": "2f6e070d",
   "metadata": {},
   "outputs": [
    {
     "data": {
      "text/plain": [
       "tensor([[0.4749, 0.2500, 0.9658],\n",
       "        [0.2888, 0.5359, 0.7288],\n",
       "        [0.3454, 0.6774, 0.9159]])"
      ]
     },
     "execution_count": 8,
     "metadata": {},
     "output_type": "execute_result"
    }
   ],
   "source": [
    "import torch\n",
    "\n",
    "# Create a new random tensor of shape (3, 3)\n",
    "random_tensor = torch.rand(3, 3)\n",
    "random_tensor\n"
   ]
  }
 ],
 "metadata": {
  "kernelspec": {
   "display_name": "base",
   "language": "python",
   "name": "python3"
  },
  "language_info": {
   "codemirror_mode": {
    "name": "ipython",
    "version": 3
   },
   "file_extension": ".py",
   "mimetype": "text/x-python",
   "name": "python",
   "nbconvert_exporter": "python",
   "pygments_lexer": "ipython3",
   "version": "3.13.5"
  }
 },
 "nbformat": 4,
 "nbformat_minor": 5
}
